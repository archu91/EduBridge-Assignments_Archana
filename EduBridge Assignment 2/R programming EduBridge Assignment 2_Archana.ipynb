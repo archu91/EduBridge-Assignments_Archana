{
 "cells": [
  {
   "cell_type": "markdown",
   "id": "e83fa20e",
   "metadata": {},
   "source": [
    "## 1. \n",
    "Write a program that accepts a comma-separated sequence of words as input and prints the words in a comma-separated sequence after sorting them alphabetically."
   ]
  },
  {
   "cell_type": "code",
   "execution_count": 2,
   "id": "1ddd5c36",
   "metadata": {},
   "outputs": [
    {
     "name": "stdout",
     "output_type": "stream",
     "text": [
      "Enter some words seperated by comma :   python , in  ,  super,coding\n"
     ]
    },
    {
     "data": {
      "text/html": [
       "<style>\n",
       ".list-inline {list-style: none; margin:0; padding: 0}\n",
       ".list-inline>li {display: inline-block}\n",
       ".list-inline>li:not(:last-child)::after {content: \"\\00b7\"; padding: 0 .5ex}\n",
       "</style>\n",
       "<ol class=list-inline><li>'python'</li><li>'in'</li><li>'super'</li><li>'coding'</li></ol>\n"
      ],
      "text/latex": [
       "\\begin{enumerate*}\n",
       "\\item 'python'\n",
       "\\item 'in'\n",
       "\\item 'super'\n",
       "\\item 'coding'\n",
       "\\end{enumerate*}\n"
      ],
      "text/markdown": [
       "1. 'python'\n",
       "2. 'in'\n",
       "3. 'super'\n",
       "4. 'coding'\n",
       "\n",
       "\n"
      ],
      "text/plain": [
       "[1] \"python\" \"in\"     \"super\"  \"coding\""
      ]
     },
     "metadata": {},
     "output_type": "display_data"
    }
   ],
   "source": [
    "words <- readline(prompt = \"Enter some words seperated by comma : \")\n",
    "words <- unlist(strsplit(words, \",\"))  # split by comma\n",
    "words <- trimws(words)  # remove leading and trailing whitespace\n",
    "words"
   ]
  },
  {
   "cell_type": "code",
   "execution_count": 3,
   "id": "6740b0e8",
   "metadata": {},
   "outputs": [
    {
     "data": {
      "text/html": [
       "<style>\n",
       ".list-inline {list-style: none; margin:0; padding: 0}\n",
       ".list-inline>li {display: inline-block}\n",
       ".list-inline>li:not(:last-child)::after {content: \"\\00b7\"; padding: 0 .5ex}\n",
       "</style>\n",
       "<ol class=list-inline><li>'coding'</li><li>'in'</li><li>'python'</li><li>'super'</li></ol>\n"
      ],
      "text/latex": [
       "\\begin{enumerate*}\n",
       "\\item 'coding'\n",
       "\\item 'in'\n",
       "\\item 'python'\n",
       "\\item 'super'\n",
       "\\end{enumerate*}\n"
      ],
      "text/markdown": [
       "1. 'coding'\n",
       "2. 'in'\n",
       "3. 'python'\n",
       "4. 'super'\n",
       "\n",
       "\n"
      ],
      "text/plain": [
       "[1] \"coding\" \"in\"     \"python\" \"super\" "
      ]
     },
     "metadata": {},
     "output_type": "display_data"
    }
   ],
   "source": [
    "sort(words)"
   ]
  },
  {
   "cell_type": "markdown",
   "id": "d6762a2c",
   "metadata": {},
   "source": [
    "## 2. Blood Donation Dataset"
   ]
  },
  {
   "cell_type": "code",
   "execution_count": 4,
   "id": "19e386b0",
   "metadata": {},
   "outputs": [
    {
     "data": {
      "text/html": [
       "<table class=\"dataframe\">\n",
       "<caption>A data.frame: 6 × 5</caption>\n",
       "<thead>\n",
       "\t<tr><th></th><th scope=col>Months.since.Last.Donation</th><th scope=col>Number.of.Donations</th><th scope=col>Total.Volume.Donated..c.c..</th><th scope=col>Months.since.First.Donation</th><th scope=col>target</th></tr>\n",
       "\t<tr><th></th><th scope=col>&lt;int&gt;</th><th scope=col>&lt;int&gt;</th><th scope=col>&lt;int&gt;</th><th scope=col>&lt;int&gt;</th><th scope=col>&lt;int&gt;</th></tr>\n",
       "</thead>\n",
       "<tbody>\n",
       "\t<tr><th scope=row>1</th><td> 4</td><td>9</td><td>2250</td><td>38</td><td>1</td></tr>\n",
       "\t<tr><th scope=row>2</th><td> 2</td><td>1</td><td> 250</td><td> 2</td><td>0</td></tr>\n",
       "\t<tr><th scope=row>3</th><td> 2</td><td>1</td><td> 250</td><td> 2</td><td>0</td></tr>\n",
       "\t<tr><th scope=row>4</th><td> 2</td><td>6</td><td>1500</td><td>35</td><td>1</td></tr>\n",
       "\t<tr><th scope=row>5</th><td>21</td><td>1</td><td> 250</td><td>21</td><td>0</td></tr>\n",
       "\t<tr><th scope=row>6</th><td> 4</td><td>1</td><td> 250</td><td> 4</td><td>0</td></tr>\n",
       "</tbody>\n",
       "</table>\n"
      ],
      "text/latex": [
       "A data.frame: 6 × 5\n",
       "\\begin{tabular}{r|lllll}\n",
       "  & Months.since.Last.Donation & Number.of.Donations & Total.Volume.Donated..c.c.. & Months.since.First.Donation & target\\\\\n",
       "  & <int> & <int> & <int> & <int> & <int>\\\\\n",
       "\\hline\n",
       "\t1 &  4 & 9 & 2250 & 38 & 1\\\\\n",
       "\t2 &  2 & 1 &  250 &  2 & 0\\\\\n",
       "\t3 &  2 & 1 &  250 &  2 & 0\\\\\n",
       "\t4 &  2 & 6 & 1500 & 35 & 1\\\\\n",
       "\t5 & 21 & 1 &  250 & 21 & 0\\\\\n",
       "\t6 &  4 & 1 &  250 &  4 & 0\\\\\n",
       "\\end{tabular}\n"
      ],
      "text/markdown": [
       "\n",
       "A data.frame: 6 × 5\n",
       "\n",
       "| <!--/--> | Months.since.Last.Donation &lt;int&gt; | Number.of.Donations &lt;int&gt; | Total.Volume.Donated..c.c.. &lt;int&gt; | Months.since.First.Donation &lt;int&gt; | target &lt;int&gt; |\n",
       "|---|---|---|---|---|---|\n",
       "| 1 |  4 | 9 | 2250 | 38 | 1 |\n",
       "| 2 |  2 | 1 |  250 |  2 | 0 |\n",
       "| 3 |  2 | 1 |  250 |  2 | 0 |\n",
       "| 4 |  2 | 6 | 1500 | 35 | 1 |\n",
       "| 5 | 21 | 1 |  250 | 21 | 0 |\n",
       "| 6 |  4 | 1 |  250 |  4 | 0 |\n",
       "\n"
      ],
      "text/plain": [
       "  Months.since.Last.Donation Number.of.Donations Total.Volume.Donated..c.c..\n",
       "1  4                         9                   2250                       \n",
       "2  2                         1                    250                       \n",
       "3  2                         1                    250                       \n",
       "4  2                         6                   1500                       \n",
       "5 21                         1                    250                       \n",
       "6  4                         1                    250                       \n",
       "  Months.since.First.Donation target\n",
       "1 38                          1     \n",
       "2  2                          0     \n",
       "3  2                          0     \n",
       "4 35                          1     \n",
       "5 21                          0     \n",
       "6  4                          0     "
      ]
     },
     "metadata": {},
     "output_type": "display_data"
    }
   ],
   "source": [
    "df = read.csv(\"blood_train.csv\")\n",
    "head(df)"
   ]
  },
  {
   "cell_type": "code",
   "execution_count": 5,
   "id": "05d1705f",
   "metadata": {
    "scrolled": true
   },
   "outputs": [
    {
     "name": "stdout",
     "output_type": "stream",
     "text": [
      "'data.frame':\t460 obs. of  5 variables:\n",
      " $ Months.since.Last.Donation : int  4 2 2 2 21 4 16 4 4 21 ...\n",
      " $ Number.of.Donations        : int  9 1 1 6 1 1 1 2 1 1 ...\n",
      " $ Total.Volume.Donated..c.c..: int  2250 250 250 1500 250 250 250 500 250 250 ...\n",
      " $ Months.since.First.Donation: int  38 2 2 35 21 4 16 4 4 21 ...\n",
      " $ target                     : int  1 0 0 1 0 0 0 0 0 0 ...\n"
     ]
    }
   ],
   "source": [
    "str(df)"
   ]
  },
  {
   "cell_type": "code",
   "execution_count": 6,
   "id": "32031706",
   "metadata": {},
   "outputs": [],
   "source": [
    "df$target = as.factor(df$target)"
   ]
  },
  {
   "cell_type": "code",
   "execution_count": 7,
   "id": "bf4d38f0",
   "metadata": {},
   "outputs": [
    {
     "data": {
      "text/html": [
       "<style>\n",
       ".list-inline {list-style: none; margin:0; padding: 0}\n",
       ".list-inline>li {display: inline-block}\n",
       ".list-inline>li:not(:last-child)::after {content: \"\\00b7\"; padding: 0 .5ex}\n",
       "</style>\n",
       "<ol class=list-inline><li>'0'</li><li>'1'</li></ol>\n"
      ],
      "text/latex": [
       "\\begin{enumerate*}\n",
       "\\item '0'\n",
       "\\item '1'\n",
       "\\end{enumerate*}\n"
      ],
      "text/markdown": [
       "1. '0'\n",
       "2. '1'\n",
       "\n",
       "\n"
      ],
      "text/plain": [
       "[1] \"0\" \"1\""
      ]
     },
     "metadata": {},
     "output_type": "display_data"
    }
   ],
   "source": [
    "levels(df$target)"
   ]
  },
  {
   "cell_type": "code",
   "execution_count": 8,
   "id": "77da1a49",
   "metadata": {},
   "outputs": [],
   "source": [
    "library(caTools)"
   ]
  },
  {
   "cell_type": "code",
   "execution_count": 9,
   "id": "332a9855",
   "metadata": {},
   "outputs": [],
   "source": [
    "split = sample.split(df, SplitRatio=0.75)   # 75% for training set and 25% for test set"
   ]
  },
  {
   "cell_type": "code",
   "execution_count": 10,
   "id": "e439b748",
   "metadata": {},
   "outputs": [],
   "source": [
    "train = subset(df, split==T)\n",
    "test = subset(df, split==F)"
   ]
  },
  {
   "cell_type": "code",
   "execution_count": 11,
   "id": "ef9e4995",
   "metadata": {},
   "outputs": [],
   "source": [
    "library(tree)"
   ]
  },
  {
   "cell_type": "code",
   "execution_count": 12,
   "id": "2e6335a0",
   "metadata": {},
   "outputs": [],
   "source": [
    "# Decision Tree model\n",
    "model = tree(target~. , data=train)"
   ]
  },
  {
   "cell_type": "code",
   "execution_count": 13,
   "id": "52e327ca",
   "metadata": {},
   "outputs": [
    {
     "data": {
      "text/plain": [
       "\n",
       "Classification tree:\n",
       "tree(formula = target ~ ., data = train)\n",
       "Variables actually used in tree construction:\n",
       "[1] \"Months.since.Last.Donation\"  \"Number.of.Donations\"        \n",
       "[3] \"Months.since.First.Donation\"\n",
       "Number of terminal nodes:  5 \n",
       "Residual mean deviance:  0.9123 = 247.2 / 271 \n",
       "Misclassification error rate: 0.1993 = 55 / 276 "
      ]
     },
     "metadata": {},
     "output_type": "display_data"
    }
   ],
   "source": [
    "summary(model)"
   ]
  },
  {
   "cell_type": "code",
   "execution_count": 14,
   "id": "ba1bd454",
   "metadata": {},
   "outputs": [
    {
     "data": {
      "image/png": "[encoded data removed]",
      "text/plain": [
       "plot without title"
      ]
     },
     "metadata": {
      "image/png": {
       "height": 420,
       "width": 420
      }
     },
     "output_type": "display_data"
    }
   ],
   "source": [
    "plot(model)\n",
    "text(model)"
   ]
  },
  {
   "cell_type": "code",
   "execution_count": 15,
   "id": "e2c34bf1",
   "metadata": {},
   "outputs": [],
   "source": [
    "# Predict the test data based on the model\n",
    "pred = predict(model, test, type = \"class\")"
   ]
  },
  {
   "cell_type": "code",
   "execution_count": 16,
   "id": "2057fa0d",
   "metadata": {},
   "outputs": [
    {
     "data": {
      "text/plain": [
       "   pred\n",
       "      0   1\n",
       "  0 116  20\n",
       "  1  26  22"
      ]
     },
     "metadata": {},
     "output_type": "display_data"
    }
   ],
   "source": [
    "# Confusion Matrix\n",
    "cm = table(test$target, pred)\n",
    "cm"
   ]
  },
  {
   "cell_type": "code",
   "execution_count": 17,
   "id": "ab9c688b",
   "metadata": {},
   "outputs": [
    {
     "name": "stdout",
     "output_type": "stream",
     "text": [
      "[1] \"Accuracy =  75\"\n"
     ]
    }
   ],
   "source": [
    "accuracy = sum(diag(cm))/sum(cm)\n",
    "print(paste(\"Accuracy = \", accuracy*100))"
   ]
  },
  {
   "cell_type": "markdown",
   "id": "39e6132e",
   "metadata": {},
   "source": [
    "## 3. Mobile Price Dataset"
   ]
  },
  {
   "cell_type": "code",
   "execution_count": 19,
   "id": "35d85230",
   "metadata": {},
   "outputs": [],
   "source": [
    "library(randomForest) "
   ]
  },
  {
   "cell_type": "code",
   "execution_count": 20,
   "id": "a664c0bc",
   "metadata": {},
   "outputs": [
    {
     "data": {
      "text/html": [
       "<table class=\"dataframe\">\n",
       "<caption>A data.frame: 6 × 21</caption>\n",
       "<thead>\n",
       "\t<tr><th></th><th scope=col>battery_power</th><th scope=col>blue</th><th scope=col>clock_speed</th><th scope=col>dual_sim</th><th scope=col>fc</th><th scope=col>four_g</th><th scope=col>int_memory</th><th scope=col>m_dep</th><th scope=col>mobile_wt</th><th scope=col>n_cores</th><th scope=col>⋯</th><th scope=col>px_height</th><th scope=col>px_width</th><th scope=col>ram</th><th scope=col>sc_h</th><th scope=col>sc_w</th><th scope=col>talk_time</th><th scope=col>three_g</th><th scope=col>touch_screen</th><th scope=col>wifi</th><th scope=col>price_range</th></tr>\n",
       "\t<tr><th></th><th scope=col>&lt;int&gt;</th><th scope=col>&lt;int&gt;</th><th scope=col>&lt;dbl&gt;</th><th scope=col>&lt;int&gt;</th><th scope=col>&lt;int&gt;</th><th scope=col>&lt;int&gt;</th><th scope=col>&lt;int&gt;</th><th scope=col>&lt;dbl&gt;</th><th scope=col>&lt;int&gt;</th><th scope=col>&lt;int&gt;</th><th scope=col>⋯</th><th scope=col>&lt;int&gt;</th><th scope=col>&lt;int&gt;</th><th scope=col>&lt;int&gt;</th><th scope=col>&lt;int&gt;</th><th scope=col>&lt;int&gt;</th><th scope=col>&lt;int&gt;</th><th scope=col>&lt;int&gt;</th><th scope=col>&lt;int&gt;</th><th scope=col>&lt;int&gt;</th><th scope=col>&lt;int&gt;</th></tr>\n",
       "</thead>\n",
       "<tbody>\n",
       "\t<tr><th scope=row>1</th><td>1928</td><td>0</td><td>2.6</td><td>0</td><td>5</td><td>0</td><td> 5</td><td>0.8</td><td>162</td><td>5</td><td>⋯</td><td>229</td><td>1004</td><td> 696</td><td>14</td><td>12</td><td>15</td><td>1</td><td>1</td><td>1</td><td>0</td></tr>\n",
       "\t<tr><th scope=row>2</th><td>1101</td><td>0</td><td>1.8</td><td>0</td><td>0</td><td>0</td><td>31</td><td>0.2</td><td>148</td><td>2</td><td>⋯</td><td>387</td><td>1269</td><td>2196</td><td>12</td><td> 6</td><td>19</td><td>0</td><td>1</td><td>1</td><td>1</td></tr>\n",
       "\t<tr><th scope=row>3</th><td>1975</td><td>1</td><td>1.9</td><td>1</td><td>2</td><td>0</td><td>31</td><td>0.9</td><td>151</td><td>1</td><td>⋯</td><td>775</td><td>1607</td><td>3022</td><td>13</td><td> 5</td><td>19</td><td>0</td><td>0</td><td>1</td><td>3</td></tr>\n",
       "\t<tr><th scope=row>4</th><td> 742</td><td>1</td><td>2.3</td><td>0</td><td>0</td><td>0</td><td>21</td><td>0.7</td><td>104</td><td>8</td><td>⋯</td><td>875</td><td> 925</td><td> 331</td><td>11</td><td> 8</td><td> 7</td><td>1</td><td>0</td><td>0</td><td>0</td></tr>\n",
       "\t<tr><th scope=row>5</th><td>1027</td><td>1</td><td>0.8</td><td>0</td><td>7</td><td>0</td><td>18</td><td>1.0</td><td>146</td><td>7</td><td>⋯</td><td>338</td><td> 534</td><td>1234</td><td> 7</td><td> 4</td><td>14</td><td>1</td><td>0</td><td>1</td><td>0</td></tr>\n",
       "\t<tr><th scope=row>6</th><td> 676</td><td>0</td><td>2.2</td><td>0</td><td>1</td><td>1</td><td>39</td><td>0.2</td><td> 84</td><td>1</td><td>⋯</td><td>864</td><td>1011</td><td>2064</td><td>13</td><td> 7</td><td> 6</td><td>1</td><td>0</td><td>0</td><td>1</td></tr>\n",
       "</tbody>\n",
       "</table>\n"
      ],
      "text/latex": [
       "A data.frame: 6 × 21\n",
       "\\begin{tabular}{r|lllllllllllllllllllll}\n",
       "  & battery\\_power & blue & clock\\_speed & dual\\_sim & fc & four\\_g & int\\_memory & m\\_dep & mobile\\_wt & n\\_cores & ⋯ & px\\_height & px\\_width & ram & sc\\_h & sc\\_w & talk\\_time & three\\_g & touch\\_screen & wifi & price\\_range\\\\\n",
       "  & <int> & <int> & <dbl> & <int> & <int> & <int> & <int> & <dbl> & <int> & <int> & ⋯ & <int> & <int> & <int> & <int> & <int> & <int> & <int> & <int> & <int> & <int>\\\\\n",
       "\\hline\n",
       "\t1 & 1928 & 0 & 2.6 & 0 & 5 & 0 &  5 & 0.8 & 162 & 5 & ⋯ & 229 & 1004 &  696 & 14 & 12 & 15 & 1 & 1 & 1 & 0\\\\\n",
       "\t2 & 1101 & 0 & 1.8 & 0 & 0 & 0 & 31 & 0.2 & 148 & 2 & ⋯ & 387 & 1269 & 2196 & 12 &  6 & 19 & 0 & 1 & 1 & 1\\\\\n",
       "\t3 & 1975 & 1 & 1.9 & 1 & 2 & 0 & 31 & 0.9 & 151 & 1 & ⋯ & 775 & 1607 & 3022 & 13 &  5 & 19 & 0 & 0 & 1 & 3\\\\\n",
       "\t4 &  742 & 1 & 2.3 & 0 & 0 & 0 & 21 & 0.7 & 104 & 8 & ⋯ & 875 &  925 &  331 & 11 &  8 &  7 & 1 & 0 & 0 & 0\\\\\n",
       "\t5 & 1027 & 1 & 0.8 & 0 & 7 & 0 & 18 & 1.0 & 146 & 7 & ⋯ & 338 &  534 & 1234 &  7 &  4 & 14 & 1 & 0 & 1 & 0\\\\\n",
       "\t6 &  676 & 0 & 2.2 & 0 & 1 & 1 & 39 & 0.2 &  84 & 1 & ⋯ & 864 & 1011 & 2064 & 13 &  7 &  6 & 1 & 0 & 0 & 1\\\\\n",
       "\\end{tabular}\n"
      ],
      "text/markdown": [
       "\n",
       "A data.frame: 6 × 21\n",
       "\n",
       "| <!--/--> | battery_power &lt;int&gt; | blue &lt;int&gt; | clock_speed &lt;dbl&gt; | dual_sim &lt;int&gt; | fc &lt;int&gt; | four_g &lt;int&gt; | int_memory &lt;int&gt; | m_dep &lt;dbl&gt; | mobile_wt &lt;int&gt; | n_cores &lt;int&gt; | ⋯ ⋯ | px_height &lt;int&gt; | px_width &lt;int&gt; | ram &lt;int&gt; | sc_h &lt;int&gt; | sc_w &lt;int&gt; | talk_time &lt;int&gt; | three_g &lt;int&gt; | touch_screen &lt;int&gt; | wifi &lt;int&gt; | price_range &lt;int&gt; |\n",
       "|---|---|---|---|---|---|---|---|---|---|---|---|---|---|---|---|---|---|---|---|---|---|\n",
       "| 1 | 1928 | 0 | 2.6 | 0 | 5 | 0 |  5 | 0.8 | 162 | 5 | ⋯ | 229 | 1004 |  696 | 14 | 12 | 15 | 1 | 1 | 1 | 0 |\n",
       "| 2 | 1101 | 0 | 1.8 | 0 | 0 | 0 | 31 | 0.2 | 148 | 2 | ⋯ | 387 | 1269 | 2196 | 12 |  6 | 19 | 0 | 1 | 1 | 1 |\n",
       "| 3 | 1975 | 1 | 1.9 | 1 | 2 | 0 | 31 | 0.9 | 151 | 1 | ⋯ | 775 | 1607 | 3022 | 13 |  5 | 19 | 0 | 0 | 1 | 3 |\n",
       "| 4 |  742 | 1 | 2.3 | 0 | 0 | 0 | 21 | 0.7 | 104 | 8 | ⋯ | 875 |  925 |  331 | 11 |  8 |  7 | 1 | 0 | 0 | 0 |\n",
       "| 5 | 1027 | 1 | 0.8 | 0 | 7 | 0 | 18 | 1.0 | 146 | 7 | ⋯ | 338 |  534 | 1234 |  7 |  4 | 14 | 1 | 0 | 1 | 0 |\n",
       "| 6 |  676 | 0 | 2.2 | 0 | 1 | 1 | 39 | 0.2 |  84 | 1 | ⋯ | 864 | 1011 | 2064 | 13 |  7 |  6 | 1 | 0 | 0 | 1 |\n",
       "\n"
      ],
      "text/plain": [
       "  battery_power blue clock_speed dual_sim fc four_g int_memory m_dep mobile_wt\n",
       "1 1928          0    2.6         0        5  0       5         0.8   162      \n",
       "2 1101          0    1.8         0        0  0      31         0.2   148      \n",
       "3 1975          1    1.9         1        2  0      31         0.9   151      \n",
       "4  742          1    2.3         0        0  0      21         0.7   104      \n",
       "5 1027          1    0.8         0        7  0      18         1.0   146      \n",
       "6  676          0    2.2         0        1  1      39         0.2    84      \n",
       "  n_cores <U+22EF>        px_height px_width ram  sc_h sc_w talk_time three_g\n",
       "1 5       <U+22EF> 229       1004      696 14   12   15        1      \n",
       "2 2       <U+22EF> 387       1269     2196 12    6   19        0      \n",
       "3 1       <U+22EF> 775       1607     3022 13    5   19        0      \n",
       "4 8       <U+22EF> 875        925      331 11    8    7        1      \n",
       "5 7       <U+22EF> 338        534     1234  7    4   14        1      \n",
       "6 1       <U+22EF> 864       1011     2064 13    7    6        1      \n",
       "  touch_screen wifi price_range\n",
       "1 1            1    0          \n",
       "2 1            1    1          \n",
       "3 0            1    3          \n",
       "4 0            0    0          \n",
       "5 0            1    0          \n",
       "6 0            0    1          "
      ]
     },
     "metadata": {},
     "output_type": "display_data"
    }
   ],
   "source": [
    "df = read.csv(\"mobile_train.csv\")\n",
    "head(df)"
   ]
  },
  {
   "cell_type": "code",
   "execution_count": 21,
   "id": "5c4c60e0",
   "metadata": {
    "scrolled": true
   },
   "outputs": [
    {
     "name": "stdout",
     "output_type": "stream",
     "text": [
      "'data.frame':\t1600 obs. of  21 variables:\n",
      " $ battery_power: int  1928 1101 1975 742 1027 676 713 1236 1410 1322 ...\n",
      " $ blue         : int  0 0 1 1 1 0 0 1 1 0 ...\n",
      " $ clock_speed  : num  2.6 1.8 1.9 2.3 0.8 2.2 1.6 2.8 0.5 1.7 ...\n",
      " $ dual_sim     : int  0 0 1 0 0 0 0 0 1 1 ...\n",
      " $ fc           : int  5 0 2 0 7 1 4 6 0 6 ...\n",
      " $ four_g       : int  0 0 0 0 0 1 1 1 1 0 ...\n",
      " $ int_memory   : int  5 31 31 21 18 39 63 32 15 7 ...\n",
      " $ m_dep        : num  0.8 0.2 0.9 0.7 1 0.2 0.7 0.3 0.3 0.8 ...\n",
      " $ mobile_wt    : int  162 148 151 104 146 84 89 143 92 140 ...\n",
      " $ n_cores      : int  5 2 1 8 7 1 2 4 3 3 ...\n",
      " $ pc           : int  16 7 17 1 11 5 8 18 1 9 ...\n",
      " $ px_height    : int  229 387 775 875 338 864 103 492 192 177 ...\n",
      " $ px_width     : int  1004 1269 1607 925 534 1011 1760 1403 1311 1990 ...\n",
      " $ ram          : int  696 2196 3022 331 1234 2064 2082 942 2304 1418 ...\n",
      " $ sc_h         : int  14 12 13 11 7 13 15 16 18 19 ...\n",
      " $ sc_w         : int  12 6 5 8 4 7 10 12 4 17 ...\n",
      " $ talk_time    : int  15 19 19 7 14 6 12 14 18 12 ...\n",
      " $ three_g      : int  1 0 0 1 1 1 1 1 1 0 ...\n",
      " $ touch_screen : int  1 1 0 0 0 0 0 1 1 1 ...\n",
      " $ wifi         : int  1 1 1 0 1 0 0 1 0 0 ...\n",
      " $ price_range  : int  0 1 3 0 0 1 1 0 2 1 ...\n"
     ]
    }
   ],
   "source": [
    "str(df)"
   ]
  },
  {
   "cell_type": "code",
   "execution_count": 24,
   "id": "c3ffb4b2",
   "metadata": {},
   "outputs": [],
   "source": [
    "# convert to factors\n",
    "factors_index = c(2,4,6,18,19,20,21)\n",
    "for (i in factors_index) {\n",
    "    col_name = names(df)[i]\n",
    "    df[, col_name] = sapply(df[, col_name], factor)\n",
    "}"
   ]
  },
  {
   "cell_type": "code",
   "execution_count": 25,
   "id": "87e7ae95",
   "metadata": {},
   "outputs": [
    {
     "name": "stdout",
     "output_type": "stream",
     "text": [
      "'data.frame':\t1600 obs. of  21 variables:\n",
      " $ battery_power: int  1928 1101 1975 742 1027 676 713 1236 1410 1322 ...\n",
      " $ blue         : Factor w/ 2 levels \"0\",\"1\": 1 1 2 2 2 1 1 2 2 1 ...\n",
      " $ clock_speed  : num  2.6 1.8 1.9 2.3 0.8 2.2 1.6 2.8 0.5 1.7 ...\n",
      " $ dual_sim     : Factor w/ 2 levels \"0\",\"1\": 1 1 2 1 1 1 1 1 2 2 ...\n",
      " $ fc           : int  5 0 2 0 7 1 4 6 0 6 ...\n",
      " $ four_g       : Factor w/ 2 levels \"0\",\"1\": 1 1 1 1 1 2 2 2 2 1 ...\n",
      " $ int_memory   : int  5 31 31 21 18 39 63 32 15 7 ...\n",
      " $ m_dep        : num  0.8 0.2 0.9 0.7 1 0.2 0.7 0.3 0.3 0.8 ...\n",
      " $ mobile_wt    : int  162 148 151 104 146 84 89 143 92 140 ...\n",
      " $ n_cores      : int  5 2 1 8 7 1 2 4 3 3 ...\n",
      " $ pc           : int  16 7 17 1 11 5 8 18 1 9 ...\n",
      " $ px_height    : int  229 387 775 875 338 864 103 492 192 177 ...\n",
      " $ px_width     : int  1004 1269 1607 925 534 1011 1760 1403 1311 1990 ...\n",
      " $ ram          : int  696 2196 3022 331 1234 2064 2082 942 2304 1418 ...\n",
      " $ sc_h         : int  14 12 13 11 7 13 15 16 18 19 ...\n",
      " $ sc_w         : int  12 6 5 8 4 7 10 12 4 17 ...\n",
      " $ talk_time    : int  15 19 19 7 14 6 12 14 18 12 ...\n",
      " $ three_g      : Factor w/ 2 levels \"1\",\"0\": 1 2 2 1 1 1 1 1 1 2 ...\n",
      " $ touch_screen : Factor w/ 2 levels \"1\",\"0\": 1 1 2 2 2 2 2 1 1 1 ...\n",
      " $ wifi         : Factor w/ 2 levels \"1\",\"0\": 1 1 1 2 1 2 2 1 2 2 ...\n",
      " $ price_range  : Factor w/ 4 levels \"0\",\"1\",\"3\",\"2\": 1 2 3 1 1 2 2 1 4 2 ...\n"
     ]
    }
   ],
   "source": [
    "str(df)"
   ]
  },
  {
   "cell_type": "code",
   "execution_count": 26,
   "id": "346db2e4",
   "metadata": {},
   "outputs": [
    {
     "data": {
      "text/html": [
       "<style>\n",
       ".list-inline {list-style: none; margin:0; padding: 0}\n",
       ".list-inline>li {display: inline-block}\n",
       ".list-inline>li:not(:last-child)::after {content: \"\\00b7\"; padding: 0 .5ex}\n",
       "</style>\n",
       "<ol class=list-inline><li>'0'</li><li>'1'</li><li>'3'</li><li>'2'</li></ol>\n"
      ],
      "text/latex": [
       "\\begin{enumerate*}\n",
       "\\item '0'\n",
       "\\item '1'\n",
       "\\item '3'\n",
       "\\item '2'\n",
       "\\end{enumerate*}\n"
      ],
      "text/markdown": [
       "1. '0'\n",
       "2. '1'\n",
       "3. '3'\n",
       "4. '2'\n",
       "\n",
       "\n"
      ],
      "text/plain": [
       "[1] \"0\" \"1\" \"3\" \"2\""
      ]
     },
     "metadata": {},
     "output_type": "display_data"
    }
   ],
   "source": [
    "levels(df$price_range)"
   ]
  },
  {
   "cell_type": "code",
   "execution_count": 27,
   "id": "e5ece983",
   "metadata": {},
   "outputs": [],
   "source": [
    "split = sample.split(df, SplitRatio=0.75)   # 75% for training set and 25% for test set"
   ]
  },
  {
   "cell_type": "code",
   "execution_count": 28,
   "id": "74ee36c3",
   "metadata": {},
   "outputs": [],
   "source": [
    "train = subset(df, split==T)\n",
    "test = subset(df, split==F)"
   ]
  },
  {
   "cell_type": "code",
   "execution_count": 29,
   "id": "7f8f0cfe",
   "metadata": {},
   "outputs": [],
   "source": [
    "# Random Forest model : \n",
    "model = randomForest(price_range~. , data=train, ntree=100, mtry=5)"
   ]
  },
  {
   "cell_type": "code",
   "execution_count": 30,
   "id": "87ea5bbd",
   "metadata": {
    "scrolled": true
   },
   "outputs": [
    {
     "data": {
      "text/plain": [
       "                Length Class  Mode     \n",
       "call               5   -none- call     \n",
       "type               1   -none- character\n",
       "predicted       1143   factor numeric  \n",
       "err.rate         500   -none- numeric  \n",
       "confusion         20   -none- numeric  \n",
       "votes           4572   matrix numeric  \n",
       "oob.times       1143   -none- numeric  \n",
       "classes            4   -none- character\n",
       "importance        20   -none- numeric  \n",
       "importanceSD       0   -none- NULL     \n",
       "localImportance    0   -none- NULL     \n",
       "proximity          0   -none- NULL     \n",
       "ntree              1   -none- numeric  \n",
       "mtry               1   -none- numeric  \n",
       "forest            14   -none- list     \n",
       "y               1143   factor numeric  \n",
       "test               0   -none- NULL     \n",
       "inbag              0   -none- NULL     \n",
       "terms              3   terms  call     "
      ]
     },
     "metadata": {},
     "output_type": "display_data"
    }
   ],
   "source": [
    "summary(model)"
   ]
  },
  {
   "cell_type": "code",
   "execution_count": 31,
   "id": "b72c0d66",
   "metadata": {
    "scrolled": false
   },
   "outputs": [
    {
     "ename": "ERROR",
     "evalue": "Error in xy.coords(x, y, recycle = TRUE, setLab = FALSE): 'x' is a list, but does not have components 'x' and 'y'\n",
     "output_type": "error",
     "traceback": [
      "Error in xy.coords(x, y, recycle = TRUE, setLab = FALSE): 'x' is a list, but does not have components 'x' and 'y'\nTraceback:\n",
      "1. text(model)",
      "2. text.default(model)",
      "3. xy.coords(x, y, recycle = TRUE, setLab = FALSE)",
      "4. stop(\"'x' is a list, but does not have components 'x' and 'y'\")"
     ]
    },
    {
     "data": {
      "image/png": "[encoded data removed]",
      "text/plain": [
       "Plot with title \"model\""
      ]
     },
     "metadata": {
      "image/png": {
       "height": 420,
       "width": 420
      }
     },
     "output_type": "display_data"
    }
   ],
   "source": [
    "plot(model)\n",
    "text(model)"
   ]
  },
  {
   "cell_type": "code",
   "execution_count": 32,
   "id": "77de67b4",
   "metadata": {},
   "outputs": [
    {
     "data": {
      "image/png": "[encoded data removed]",
      "text/plain": [
       "Plot with title \"model\""
      ]
     },
     "metadata": {
      "image/png": {
       "height": 420,
       "width": 420
      }
     },
     "output_type": "display_data"
    }
   ],
   "source": [
    "varImpPlot(model)"
   ]
  },
  {
   "cell_type": "code",
   "execution_count": 33,
   "id": "cb7adfd2",
   "metadata": {},
   "outputs": [],
   "source": [
    "# Predict the test data based on the model\n",
    "prediction = predict(model, test, type=\"class\")"
   ]
  },
  {
   "cell_type": "code",
   "execution_count": 34,
   "id": "122f0015",
   "metadata": {},
   "outputs": [
    {
     "data": {
      "text/plain": [
       "   prediction\n",
       "      0   1   3   2\n",
       "  0  89   5   0   0\n",
       "  1   9  96   0   8\n",
       "  3   0   0 116  11\n",
       "  2   0  15   8 100"
      ]
     },
     "metadata": {},
     "output_type": "display_data"
    }
   ],
   "source": [
    "# Confusion Matrix\n",
    "cm = table(test$price_range, prediction)\n",
    "cm"
   ]
  },
  {
   "cell_type": "code",
   "execution_count": 35,
   "id": "ba07a0a5",
   "metadata": {
    "scrolled": true
   },
   "outputs": [
    {
     "name": "stdout",
     "output_type": "stream",
     "text": [
      "[1] \"Accuracy =  87.746170678337\"\n"
     ]
    }
   ],
   "source": [
    "accuracy = sum(diag(cm))/sum(cm)\n",
    "print(paste(\"Accuracy = \", accuracy*100))"
   ]
  },
  {
   "cell_type": "markdown",
   "id": "4bc96625",
   "metadata": {},
   "source": [
    " --- \n",
    " Archana S  <br/>\n",
    " +91-9566735320  <br/>\n",
    " its4archana@gmail.com  <br/>"
   ]
  }
 ],
 "metadata": {
  "kernelspec": {
   "display_name": "R",
   "language": "R",
   "name": "ir"
  },
  "language_info": {
   "codemirror_mode": "r",
   "file_extension": ".r",
   "mimetype": "text/x-r-source",
   "name": "R",
   "pygments_lexer": "r",
   "version": "4.1.3"
  }
 },
 "nbformat": 4,
 "nbformat_minor": 5
}
